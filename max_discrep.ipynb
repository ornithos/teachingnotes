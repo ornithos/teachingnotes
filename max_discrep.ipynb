{
 "cells": [
  {
   "cell_type": "code",
   "execution_count": 11,
   "metadata": {},
   "outputs": [],
   "source": [
    "using AxUtil, Random, ProgressMeter, ArgCheck\n",
    "using Sobol, ForwardDiff, Optim\n",
    "using PyPlot, AxPlot"
   ]
  },
  {
   "cell_type": "code",
   "execution_count": 5,
   "metadata": {},
   "outputs": [
    {
     "data": {
      "text/plain": [
       "disperse_obj (generic function with 1 method)"
      ]
     },
     "execution_count": 5,
     "metadata": {},
     "output_type": "execute_result"
    }
   ],
   "source": [
    "function disperse_obj(X; bw=1/25)\n",
    "    @argcheck size(X,2) == 2\n",
    "    n = size(X,1)\n",
    "    bdp = 8\n",
    "    U = hcat(vcat(range(0,stop=1,length=bdp), ones(bdp-2), range(1,stop=0,length=bdp), zeros(bdp-2)), \n",
    "        vcat(zeros(bdp-2+1), range(0,stop=1,length=bdp), ones(bdp-2), range(1,stop=0,length=bdp)[1:bdp-1]))\n",
    "#     U = Matrix([0 0.5 1 1 1 0.5 0 0; 0 0 0 0.5 1 1 1 0.5]')\n",
    "#     U = Matrix([0 1 1 0; 0 0 1 1.]')\n",
    "    out = sum(exp.(-1/bw*AxUtil.Math.sq_diff_matrix(X, X))) + sum(exp.(-5/bw*AxUtil.Math.sq_diff_matrix(X, U)))\n",
    "    return out / n\n",
    "end"
   ]
  },
  {
   "cell_type": "code",
   "execution_count": 6,
   "metadata": {},
   "outputs": [
    {
     "data": {
      "text/plain": [
       "Results of Optimization Algorithm\n",
       " * Algorithm: Fminbox with L-BFGS\n",
       " * Starting Point: [0.1929300430149603,0.4429300430149603, ...]\n",
       " * Minimizer: [0.18541499421324462,0.6474813120952203, ...]\n",
       " * Minimum: 1.045939e+00\n",
       " * Iterations: 3\n",
       " * Convergence: true\n",
       "   * |x - x'| ≤ 0.0e+00: false \n",
       "     |x - x'| = 1.64e-07 \n",
       "   * |f(x) - f(x')| ≤ 0.0e+00 |f(x)|: false\n",
       "     |f(x) - f(x')| = 6.50e-14 |f(x)|\n",
       "   * |g(x)| ≤ 1.0e-08: true \n",
       "     |g(x)| = 5.61e-09 \n",
       "   * Stopped by an increasing objective: false\n",
       "   * Reached Maximum Number of Iterations: false\n",
       " * Objective Calls: 236\n",
       " * Gradient Calls: 236"
      ]
     },
     "execution_count": 6,
     "metadata": {},
     "output_type": "execute_result"
    }
   ],
   "source": [
    "d = 5\n",
    "res = optimize(disperse_obj, zeros(5,2), ones(5,2), AxUtil.Random.randomised_sobol(5, 2), Fminbox(LBFGS()); autodiff = :forward)"
   ]
  },
  {
   "cell_type": "code",
   "execution_count": 7,
   "metadata": {},
   "outputs": [
    {
     "name": "stderr",
     "output_type": "stream",
     "text": [
      "\u001b[32mProgress: 100%|█████████████████████████████████████████| Time: 0:01:25\u001b[39m\n"
     ]
    },
    {
     "data": {
      "text/plain": [
       "(Any[[0.5 0.5], [0.716749 0.283251; 0.283251 0.716749], [0.763437 0.744131; 0.5 0.245413; 0.236563 0.744131], [0.237653 0.237653; 0.762347 0.762347; 0.762347 0.237653; 0.237653 0.762347], [0.200999 0.200999; 0.200999 0.799001; … ; 0.799001 0.799001; 0.5 0.5], [0.818353 0.181647; 0.822964 0.788673; … ; 0.165412 0.575959; 0.424041 0.834588], [0.802064 0.845079; 0.832388 0.496392; … ; 0.824269 0.157393; 0.158783 0.377886], [0.84619 0.166058; 0.15381 0.833942; … ; 0.15381 0.166058; 0.5 0.826619], [0.5 0.5; 0.84138 0.15862; … ; 0.15862 0.15862; 0.844234 0.5], [0.863558 0.525352; 0.152064 0.152064; … ; 0.136442 0.474648; 0.152869 0.847131], [0.86513 0.860266; 0.67627 0.641769; … ; 0.131633 0.440945; 0.5 0.882031], [0.137607 0.364665; 0.412072 0.5; … ; 0.137607 0.635335; 0.864137 0.13228], [0.878997 0.36303; 0.172494 0.363893; … ; 0.829221 0.113233; 0.132214 0.61745], [0.105405 0.105405; 0.371617 0.87526; … ; 0.148318 0.371352; 0.371352 0.148318], [0.381783 0.618217; 0.871745 0.375766; … ; 0.649919 0.54638; 0.321315 0.115941], [0.330762 0.872442; 0.550792 0.651751; … ; 0.98 0.02; 0.860653 0.752079], [0.369186 0.587542; 0.884814 0.493672; … ; 0.868876 0.758307; 0.355819 0.110815], [0.631812 0.626766; 0.897276 0.362275; … ; 0.5 0.892932; 0.98 0.02], [0.621582 0.37508; 0.98 0.02; … ; 0.98 0.98; 0.361865 0.623054], [0.692765 0.106352; 0.754593 0.885742; … ; 0.377296 0.373172; 0.373172 0.622704]], [1.0, 1.00019, 1.00219, 1.00392, 1.02947, 1.07653, 1.12516, 1.16679, 1.21323, 1.32242, 1.4224, 1.51476, 1.60164, 1.67879, 1.7622, 1.84367, 1.91745, 1.99531, 2.07702, 2.15996])"
      ]
     },
     "execution_count": 7,
     "metadata": {},
     "output_type": "execute_result"
    }
   ],
   "source": [
    "opt_x, opt_f = let opt_x = []; opt_f = zeros(20);\n",
    "    @showprogress for d = 1:20\n",
    "        nretry = 20\n",
    "        best_res = nothing\n",
    "        for nn = 1:nretry\n",
    "            low, up = 0.02, 0.98\n",
    "            x0 = AxUtil.Random.randomised_sobol(d, 2)\n",
    "            x0 = min.(up-1e-2, max.(x0, low+1e-2))\n",
    "            res = optimize(disperse_obj, ones(d,2)*low, ones(d,2)*up, x0, Fminbox(LBFGS()); autodiff = :forward)\n",
    "            if nn == 1\n",
    "                best_res = res\n",
    "            else\n",
    "                if res.minimum < best_res.minimum\n",
    "                    best_res = res\n",
    "                end\n",
    "            end\n",
    "        end\n",
    "        push!(opt_x, best_res.minimizer)\n",
    "        opt_f[d] = best_res.minimum\n",
    "    end\n",
    "    opt_x, opt_f\n",
    "end\n",
    "# scatter(best_res.minimizer[:,1], best_res.minimizer[:,2])\n",
    "# gca()[:set_title](format(\"objective = {:.5f}\", best_res.minimum))\n",
    "# gca()[:set_xlim](0,1); gca()[:set_ylim](0,1)"
   ]
  },
  {
   "cell_type": "code",
   "execution_count": 12,
   "metadata": {},
   "outputs": [
    {
     "data": {
      "image/png": "[encoded data removed]",
      "text/plain": [
       "Figure(PyObject <Figure size 800x600 with 12 Axes>)"
      ]
     },
     "metadata": {},
     "output_type": "display_data"
    },
    {
     "data": {
      "text/plain": [
       "PyObject Text(83.75, 0.5, 'Max.\\n Dispersed')"
      ]
     },
     "execution_count": 12,
     "metadata": {},
     "output_type": "execute_result"
    }
   ],
   "source": [
    "fig, axs = subplots(3, 4, figsize=(8,6))\n",
    "for (i,pp) in enumerate([3,7,11,15])\n",
    "    for j in 1:3\n",
    "        Random.seed!(101010)\n",
    "        X = j == 1 ? rand(2, pp)' : j == 2 ? AxUtil.Random.randomised_sobol(pp,2) : opt_x[pp]\n",
    "        axs[j,i][:scatter](X[:,1], X[:,2])\n",
    "#         axs[j,i][:set_title](format(\"{:.5f}\", opt_f[pp]))\n",
    "        axs[j,i][:set_xlim](0,1); axs[i][:set_ylim](0,1)\n",
    "        axs[j,i][:set_xticklabels]([])\n",
    "        axs[j,i][:set_yticklabels]([])\n",
    "    end\n",
    "    axs[1,i][:set_title](pp)\n",
    "end\n",
    "axs[1,1][:set_ylabel](\"Random\", rotation=0, horizontalalignment=\"right\")\n",
    "axs[2,1][:set_ylabel](\"Sobol\", rotation=0, horizontalalignment=\"right\")\n",
    "axs[3,1][:set_ylabel](\"Max.\\n Dispersed\", rotation=0, horizontalalignment=\"right\")\n",
    "\n",
    "# savefig(\"compare_qmc.pdf\")"
   ]
  },
  {
   "cell_type": "code",
   "execution_count": null,
   "metadata": {},
   "outputs": [],
   "source": [
    "# BSON.bson(\"max_discr_seq.bson\", opt_f=opt_f, opt_x=opt_x)"
   ]
  }
 ],
 "metadata": {
  "kernelspec": {
   "display_name": "Julia 1.0.0",
   "language": "julia",
   "name": "julia-1.0"
  },
  "language_info": {
   "file_extension": ".jl",
   "mimetype": "application/julia",
   "name": "julia",
   "version": "1.0.0"
  }
 },
 "nbformat": 4,
 "nbformat_minor": 2
}
