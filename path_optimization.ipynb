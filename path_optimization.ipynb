{
 "cells": [
  {
   "cell_type": "code",
   "execution_count": 797,
   "metadata": {},
   "outputs": [],
   "source": [
    "import torch\n",
    "import torch.optim as optim\n",
    "import numpy as np\n",
    "import pandas as pd\n",
    "import matplotlib.pyplot as plt"
   ]
  },
  {
   "cell_type": "markdown",
   "metadata": {},
   "source": [
    "## Initial idea of problem statement"
   ]
  },
  {
   "cell_type": "code",
   "execution_count": 527,
   "metadata": {},
   "outputs": [],
   "source": [
    "sources = [[0.5,0.5], [0,0.5], [1,0.]]\n",
    "radii = np.array([5, 3, 2])*30\n",
    "uncertainty = np.repeat([0.1], 3)"
   ]
  },
  {
   "cell_type": "code",
   "execution_count": 528,
   "metadata": {},
   "outputs": [],
   "source": [
    "source_profile = lambda i, x: np.exp(-np.sum(np.abs(radii[i]*(sources[i] - x)**2)))"
   ]
  },
  {
   "cell_type": "code",
   "execution_count": 529,
   "metadata": {},
   "outputs": [],
   "source": [
    "ix_row, ix_col = np.indices((40,40)) / 40"
   ]
  },
  {
   "cell_type": "code",
   "execution_count": 530,
   "metadata": {},
   "outputs": [],
   "source": [
    "field1, field2, field3 = map( \n",
    "            lambda k: np.array([[source_profile(k, np.array([ix_row[i,j], ix_col[i,j]])) for i in range(40)] \n",
    "                                for j in range(40)]),\n",
    "            range(3))"
   ]
  },
  {
   "cell_type": "code",
   "execution_count": 531,
   "metadata": {},
   "outputs": [
    {
     "data": {
      "image/png": "[encoded data removed]",
      "text/plain": [
       "<Figure size 432x288 with 1 Axes>"
      ]
     },
     "metadata": {},
     "output_type": "display_data"
    }
   ],
   "source": [
    "plt.contourf(ix_row, ix_col, (field1 + field2 + field3)/3)\n",
    "plt.show()"
   ]
  },
  {
   "cell_type": "markdown",
   "metadata": {},
   "source": [
    "## Define linear spline for pytorch"
   ]
  },
  {
   "cell_type": "code",
   "execution_count": 504,
   "metadata": {},
   "outputs": [],
   "source": [
    "class LinearSpline(torch.autograd.Function):\n",
    "\n",
    "    @staticmethod\n",
    "    def forward(ctx, input, nknots):\n",
    "        ctx.save_for_backward(input)\n",
    "        input = input.detach().numpy()[0]   # Tensor => scalar. Assumes 1D input\n",
    "        assert 0 <= input <= nknots - 1, \"input must be between 0 and nknots-1.\"\n",
    "        out = torch.zeros(nknots)\n",
    "        start, rem = np.floor(input).astype('int'), input % 1\n",
    "        if not np.isclose(start, nknots-1):\n",
    "            out[max(start,0):min(start+2, nknots)] = torch.Tensor([1-rem, rem])\n",
    "        else:\n",
    "            out[nknots-1] = 1\n",
    "        return out\n",
    "\n",
    "    @staticmethod\n",
    "    def backward(ctx, grad_output):\n",
    "        input, = ctx.saved_tensors\n",
    "        input = input.detach().numpy()[0]\n",
    "        grad_input = grad_output.clone()\n",
    "        start, rem = np.floor(input).astype('int'), input % 1\n",
    "        grad_input[start] *= -1\n",
    "        grad_input[start+2:] *= 0\n",
    "        grad_input[:start] *= 0\n",
    "        return grad_input, None"
   ]
  },
  {
   "cell_type": "code",
   "execution_count": 505,
   "metadata": {},
   "outputs": [],
   "source": [
    "# Instantiate pytorch object/function\n",
    "linspl = LinearSpline.apply"
   ]
  },
  {
   "cell_type": "code",
   "execution_count": 512,
   "metadata": {},
   "outputs": [
    {
     "data": {
      "image/png": "[encoded data removed]",
      "text/plain": [
       "<Figure size 432x288 with 1 Axes>"
      ]
     },
     "metadata": {},
     "output_type": "display_data"
    }
   ],
   "source": [
    "# Test Linear Spline\n",
    "y = np.zeros(400)\n",
    "g = np.zeros(400)\n",
    "\n",
    "for i in range(400):\n",
    "    inp = torch.Tensor([i / 100]).requires_grad_(True)\n",
    "    tmp = torch.dot(linspl(inp, 5), torch.Tensor([1.0, 2, 4, 2, -4]))\n",
    "    obj = tmp.sum()\n",
    "    obj.backward()\n",
    "    g[i] = inp.grad.numpy()\n",
    "    y[i] = obj.detach().numpy()\n",
    "    \n",
    "plt.plot(y)\n",
    "plt.plot(g)\n",
    "plt.legend([\"linear spline\", \"gradient\"])\n",
    "plt.show()"
   ]
  },
  {
   "cell_type": "code",
   "execution_count": 655,
   "metadata": {},
   "outputs": [],
   "source": [
    "\"\"\" Make a vector-valued version\n",
    "    yes - this can be done more efficiently, but req. more thought -- \n",
    "    see my pyalexutil package, and also for higher order splines.\n",
    "\"\"\"\n",
    "\n",
    "\n",
    "class LinearSpline(torch.autograd.Function):\n",
    "\n",
    "    @staticmethod\n",
    "    def forward(ctx, input, nknots):\n",
    "        ctx.save_for_backward(input)\n",
    "        N = input.nelement()\n",
    "        input = input.detach().numpy()  # Tensor => scalar. Assumes 1D input\n",
    "        out = torch.zeros(nknots, N)\n",
    "        for j, x in enumerate(input):\n",
    "            assert 0 <= x <= nknots - 1, \"input must be between 0 and nknots-1.\"\n",
    "            start, rem = np.floor(x).astype('int'), x % 1\n",
    "            if not np.isclose(start, nknots-1):\n",
    "                out[max(start,0):min(start+2, nknots), j] = torch.Tensor([1-rem, rem])\n",
    "            else:\n",
    "                out[nknots-1, j] = 1\n",
    "        return out\n",
    "\n",
    "    @staticmethod\n",
    "    def backward(ctx, grad_output):\n",
    "        input, = ctx.saved_tensors\n",
    "        input = input.detach().numpy()\n",
    "        grad_input = grad_output.clone()\n",
    "        for j, x in enumerate(input):\n",
    "            start, rem = np.floor(x).astype('int'), input % 1\n",
    "            grad_input[start, j] *= -1\n",
    "            grad_input[start+2:, j] *= 0\n",
    "            grad_input[:start, j] *= 0\n",
    "        return grad_input, None\n",
    "        \n",
    "# Instantiate pytorch object/function\n",
    "linspl = LinearSpline.apply"
   ]
  },
  {
   "cell_type": "code",
   "execution_count": 694,
   "metadata": {},
   "outputs": [
    {
     "data": {
      "image/png": "[encoded data removed]",
      "text/plain": [
       "<Figure size 432x288 with 1 Axes>"
      ]
     },
     "metadata": {},
     "output_type": "display_data"
    }
   ],
   "source": [
    "# Test Linear Spline\n",
    "inp = (torch.linspace(0,399,400)/100).requires_grad_(True)\n",
    "tmp = linspl(inp, 5)\n",
    "obj_full = torch.sum(tmp * torch.Tensor([1.0, 2, 4, 2, -4]).reshape(5,1), dim=0)\n",
    "obj = obj_full.sum()\n",
    "obj.backward()\n",
    "\n",
    "plt.plot(obj_full.detach().numpy())\n",
    "plt.plot(inp.grad.numpy())\n",
    "plt.legend([\"linear spline\", \"gradient\"])\n",
    "plt.show()"
   ]
  },
  {
   "cell_type": "markdown",
   "metadata": {},
   "source": [
    "## Problem definition"
   ]
  },
  {
   "cell_type": "code",
   "execution_count": 621,
   "metadata": {},
   "outputs": [],
   "source": [
    "sources = [torch.Tensor(x) for x in [[0.55,0.6], [0,0.5], [1,0.]]]\n",
    "radii = torch.Tensor([0.2, 0.1, 0.15])\n",
    "uncertainty = torch.Tensor([0.1]).repeat(3)"
   ]
  },
  {
   "cell_type": "code",
   "execution_count": 957,
   "metadata": {},
   "outputs": [],
   "source": [
    "def sample_radii(radii, uncertainty):\n",
    "    return radii + torch.rand(len(radii)).type(uncertainty.dtype) * uncertainty\n",
    "\n",
    "def plot_problem(sources, radii, ax):\n",
    "    for s, r in zip(sources, radii):\n",
    "        ax.add_artist(plt.Circle(s, r))"
   ]
  },
  {
   "cell_type": "code",
   "execution_count": 623,
   "metadata": {},
   "outputs": [
    {
     "data": {
      "image/png": "[encoded data removed]",
      "text/plain": [
       "<Figure size 648x216 with 3 Axes>"
      ]
     },
     "metadata": {},
     "output_type": "display_data"
    }
   ],
   "source": [
    "fig, axs = plt.subplots(1,3,figsize=(9,3))\n",
    "for i in range(3):\n",
    "    plot_problem(sources, sample_radii(radii, uncertainty), ax=axs[i])\n",
    "    axs[i].set_title(\"Sample problem {:d}\".format(i+1));\n",
    "plt.show();"
   ]
  },
  {
   "cell_type": "markdown",
   "metadata": {},
   "source": [
    "### Two different loss function for sources"
   ]
  },
  {
   "cell_type": "code",
   "execution_count": 793,
   "metadata": {},
   "outputs": [
    {
     "data": {
      "image/png": "[encoded data removed]",
      "text/plain": [
       "<Figure size 576x180 with 2 Axes>"
      ]
     },
     "metadata": {},
     "output_type": "display_data"
    }
   ],
   "source": [
    "fig, axs = plt.subplots(1,2,figsize=(8, 2.5))\n",
    "axs[0].plot(np.linspace(-2,2,100), np.exp(-np.linspace(-2,2,100)**2))\n",
    "axs[0].plot(np.linspace(-2,2,100), np.exp(0.8-np.maximum(0.8, np.linspace(-2,2,100)**2)))\n",
    "\n",
    "w1 = 0.5   # Gaussian/exp-quad kernel centered at source\n",
    "w2 = 1.0   # \"uniform disk\" centered at source: this is a continuous version for C^1-differentiability\n",
    "axs[1].plot(np.linspace(-2,2,100), w1*np.exp(-np.linspace(-2,2,100)**2) +\n",
    "                                          w2*np.exp(0.8-np.maximum(0.8, np.linspace(-2,2,100)**2)))\n",
    "axs[1].set_title(\"Chosen combination\")\n",
    "plt.show()"
   ]
  },
  {
   "cell_type": "code",
   "execution_count": 945,
   "metadata": {},
   "outputs": [],
   "source": [
    "def objective(betas, radii, uncertainty, sources):\n",
    "    \n",
    "    # relative weights of intersection\n",
    "    w1 = 0.5   # Gaussian/exp-quad kernel centered at source\n",
    "    w2 = 1.0   # uniform disk centered at source\n",
    "    \n",
    "    # sample from piecewise linear path\n",
    "    k = int(betas.nelement()/2)\n",
    "    nsmp = 50\n",
    "    n = nsmp * (k-1)\n",
    "    inp = (torch.linspace(0,n-1,n)/nsmp).requires_grad_(True)\n",
    "    interpolant = linspl(inp, k).type(betas.dtype)\n",
    "    \n",
    "    path = torch.cat(((betas[0,:] @ interpolant).reshape(1, n), \n",
    "                     (betas[1,:] @ interpolant).reshape(1, n)), dim=0)\n",
    "    \n",
    "    # simulate circles\n",
    "    rs = sample_radii(radii, uncertainty)\n",
    "    \n",
    "    # calculate intersection of each (line, circle) combination\n",
    "    obj = []\n",
    "    for i in range(len(sources)):\n",
    "        dist_sq = torch.sum((path - sources[i].reshape(2, 1))**2, dim=0)\n",
    "        obj.append(w1*torch.exp(-dist_sq/(2*radii[i])).sum())\n",
    "        obj.append((w2*torch.exp(0.8-torch.clamp(dist_sq, min=0.8))).sum())  # not differentiable\n",
    "    \n",
    "    # scalar objective\n",
    "    obj = torch.stack(obj).sum()\n",
    "    return obj"
   ]
  },
  {
   "cell_type": "code",
   "execution_count": 994,
   "metadata": {},
   "outputs": [],
   "source": [
    "# inp = torch.rand(2, 4).requires_grad_(True)\n",
    "# inp.data[:,0] = 0  # set start to (0,0)\n",
    "# inp.data[:,-1] = 1  # set end to (1,1)\n",
    "inp = torch.tensor([[0, 0.33, .67, 1],[0, 0.33, 0.67, 1]]).requires_grad_(True)\n",
    "obj = objective(inp, radii, uncertainty, sources)\n",
    "obj.backward()"
   ]
  },
  {
   "cell_type": "code",
   "execution_count": 995,
   "metadata": {},
   "outputs": [],
   "source": [
    "optimizer = optim.Adam([inp], lr=0.001, weight_decay=0.1)"
   ]
  },
  {
   "cell_type": "markdown",
   "metadata": {},
   "source": [
    "## Check gradient implementation is correct"
   ]
  },
  {
   "cell_type": "code",
   "execution_count": 996,
   "metadata": {},
   "outputs": [
    {
     "data": {
      "text/plain": [
       "tensor([[ 33.2316,   3.2428, -29.9422, -38.0346],\n",
       "        [ 28.1084,  31.9128, -32.5498, -51.7975]])"
      ]
     },
     "execution_count": 996,
     "metadata": {},
     "output_type": "execute_result"
    }
   ],
   "source": [
    "optimizer.zero_grad()\n",
    "loss = objective(inp, radii, uncertainty, sources)\n",
    "loss.backward()\n",
    "inp.grad"
   ]
  },
  {
   "cell_type": "code",
   "execution_count": 997,
   "metadata": {},
   "outputs": [
    {
     "data": {
      "text/plain": [
       "array([[ 33.23158353,   3.24281473, -29.94220267, -38.03462505],\n",
       "       [ 28.10844535,  31.91280484, -32.54978083, -51.79748541]])"
      ]
     },
     "execution_count": 997,
     "metadata": {},
     "output_type": "execute_result"
    }
   ],
   "source": [
    "num_grad(lambda x: objective(x, radii.double(), uncertainty.double(), \n",
    "                             [x.double() for x in sources]), inp.detach().double())"
   ]
  },
  {
   "cell_type": "markdown",
   "metadata": {},
   "source": [
    "## Optimize"
   ]
  },
  {
   "cell_type": "code",
   "execution_count": 992,
   "metadata": {},
   "outputs": [],
   "source": [
    "for i in range(100):\n",
    "    optimizer.zero_grad()\n",
    "    loss = objective(inp, radii, uncertainty, sources)\n",
    "    loss.backward()\n",
    "    optimizer.step()\n",
    "    inp.data[:,0] = 0  # project start to (0,0)\n",
    "    inp.data[:,-1] = 1  # project end to (1,1)"
   ]
  },
  {
   "cell_type": "code",
   "execution_count": 998,
   "metadata": {},
   "outputs": [
    {
     "data": {
      "image/png": "[encoded data removed]",
      "text/plain": [
       "<Figure size 432x288 with 1 Axes>"
      ]
     },
     "metadata": {},
     "output_type": "display_data"
    }
   ],
   "source": [
    "plot_problem(sources, sample_radii(radii, uncertainty), ax=plt.gca())\n",
    "inpn = inp.detach().numpy()\n",
    "for i in range(4):\n",
    "    plt.scatter(*inpn[:,i])\n",
    "for i in range(3):\n",
    "    plt.plot(inpn[0,i:i+2], inpn[1,i:i+2])\n",
    "plt.show()"
   ]
  },
  {
   "cell_type": "markdown",
   "metadata": {},
   "source": [
    "## Numerical gradient (adapted from pyalexutil) for pytorch"
   ]
  },
  {
   "cell_type": "code",
   "execution_count": 966,
   "metadata": {},
   "outputs": [],
   "source": [
    "def num_grad(fn, X, h=1e-8, verbose=True):\n",
    "    \"\"\"\n",
    "    Calculate finite differences gradient of function fn evaluated at numpy\n",
    "    array X. Not calculating central diff to improve speed and because some\n",
    "    authors disagree about benefits.\n",
    "    Most of the code here is really to deal with weird sizes of inputs or\n",
    "    outputs. If scalar input and multi-dim output or vice versa, we return\n",
    "    gradient in the shape of the multi-dim input or output. However, if both\n",
    "    are multi-dimensional then we return as n_output vs n_input matrix\n",
    "    where both input/outputs have been vectorised if necessary.\n",
    "    \"\"\"\n",
    "    assert callable(fn), \"fn is not a function\"\n",
    "#     assert isinstance(X, (np.ndarray, int, float)), \"X should be a numpy array\"\n",
    "#     X = np.asarray(X)\n",
    "    assert isinstance(h, float), \"h should be of type float\"\n",
    "\n",
    "    shp = X.shape\n",
    "    resize_x = X.ndimension() > 1\n",
    "    rm_xdim = X.ndimension() == 0\n",
    "    n = X.nelement()\n",
    "\n",
    "    f_x = fn(X).double()\n",
    "    if isinstance(f_x, (int, float)):\n",
    "        im_f_shp = 0\n",
    "        resize_y = False\n",
    "    else:\n",
    "        im_f_shp = np.asarray(f_x.shape)\n",
    "        resize_y = not (f_x.ndimension() == 0 or (f_x.ndimension() <= 2 and np.any(f_x.shape == 1)))\n",
    "        assert f_x.ndimension() <= 2, \"image of fn is tensor. Not supported.\"\n",
    "\n",
    "    m = np.prod(np.maximum(im_f_shp, 1)).astype(int)\n",
    "\n",
    "    X = X.view(-1)\n",
    "    g = np.ones((m, n))\n",
    "    for ii in range(n):\n",
    "        Xplus = X.clone().double()\n",
    "        Xplus[ii] += h\n",
    "        Xplus = Xplus.reshape(shp)\n",
    "        grad = (fn(Xplus) - f_x) / h\n",
    "        g[:, ii] = grad.detach().view(-1)\n",
    "\n",
    "    if verbose and (resize_x and resize_y):\n",
    "        warnings.warn(\"Returning gradient as matrix size n(fn output) x n(variables)\")\n",
    "\n",
    "    if rm_xdim and g.shape[1] == 1:\n",
    "        g = g.ravel()\n",
    "    elif resize_x and not np.any(im_f_shp > 1):\n",
    "        g = g.reshape(shp)\n",
    "    elif resize_y and not np.any(np.array(shp) > 1):\n",
    "        g = g.reshape(im_f_shp)\n",
    "\n",
    "    return g"
   ]
  }
 ],
 "metadata": {
  "kernelspec": {
   "display_name": "Python (pytorchnew)",
   "language": "python",
   "name": "pytorchnew"
  },
  "language_info": {
   "codemirror_mode": {
    "name": "ipython",
    "version": 3
   },
   "file_extension": ".py",
   "mimetype": "text/x-python",
   "name": "python",
   "nbconvert_exporter": "python",
   "pygments_lexer": "ipython3",
   "version": "3.6.5"
  }
 },
 "nbformat": 4,
 "nbformat_minor": 2
}
